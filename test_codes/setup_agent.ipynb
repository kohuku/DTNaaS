{
 "cells": [
  {
   "cell_type": "code",
   "execution_count": null,
   "metadata": {},
   "outputs": [],
   "source": [
    "import requests\n",
    "\n",
    "addr = \"http://74.114.96.105:5000/create_file/\"\n",
    "\n",
    "data = {\n",
    "            'hello_world' : {                \n",
    "                'size' : '100M'\n",
    "            },\n",
    "            'hello_world2' : {\n",
    "                'size' : '100M'\n",
    "            }\n",
    "        }  \n",
    "response = requests.post(addr,data=data)\n",
    "print(response)"
   ]
  }
 ],
 "metadata": {
  "language_info": {
   "name": "python"
  },
  "orig_nbformat": 4
 },
 "nbformat": 4,
 "nbformat_minor": 2
}
